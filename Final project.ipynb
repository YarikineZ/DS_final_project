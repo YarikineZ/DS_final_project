{
 "cells": [
  {
   "cell_type": "code",
   "execution_count": 2,
   "metadata": {},
   "outputs": [],
   "source": [
    "import pandas as pd\n",
    "import numpy as np\n",
    "import matplotlib.pyplot as plt\n",
    "from scipy.signal import find_peaks\n",
    "from scipy.signal import peak_widths\n",
    "from scipy.integrate import simps\n",
    "\n",
    "%matplotlib inline"
   ]
  },
  {
   "cell_type": "markdown",
   "metadata": {},
   "source": [
    "Подгружаем данные"
   ]
  },
  {
   "cell_type": "code",
   "execution_count": 3,
   "metadata": {},
   "outputs": [
    {
     "data": {
      "text/html": [
       "<div>\n",
       "<style scoped>\n",
       "    .dataframe tbody tr th:only-of-type {\n",
       "        vertical-align: middle;\n",
       "    }\n",
       "\n",
       "    .dataframe tbody tr th {\n",
       "        vertical-align: top;\n",
       "    }\n",
       "\n",
       "    .dataframe thead th {\n",
       "        text-align: right;\n",
       "    }\n",
       "</style>\n",
       "<table border=\"1\" class=\"dataframe\">\n",
       "  <thead>\n",
       "    <tr style=\"text-align: right;\">\n",
       "      <th></th>\n",
       "      <th>Temp</th>\n",
       "      <th>Time</th>\n",
       "      <th>DSC</th>\n",
       "      <th>Sence</th>\n",
       "    </tr>\n",
       "  </thead>\n",
       "  <tbody>\n",
       "    <tr>\n",
       "      <th>0</th>\n",
       "      <td>20.01794</td>\n",
       "      <td>0.01</td>\n",
       "      <td>0.022839</td>\n",
       "      <td>3.36733</td>\n",
       "    </tr>\n",
       "    <tr>\n",
       "      <th>1</th>\n",
       "      <td>20.01857</td>\n",
       "      <td>0.02</td>\n",
       "      <td>0.022820</td>\n",
       "      <td>3.36733</td>\n",
       "    </tr>\n",
       "    <tr>\n",
       "      <th>2</th>\n",
       "      <td>20.02401</td>\n",
       "      <td>0.03</td>\n",
       "      <td>0.022770</td>\n",
       "      <td>3.36734</td>\n",
       "    </tr>\n",
       "    <tr>\n",
       "      <th>3</th>\n",
       "      <td>20.03631</td>\n",
       "      <td>0.04</td>\n",
       "      <td>0.022824</td>\n",
       "      <td>3.36735</td>\n",
       "    </tr>\n",
       "    <tr>\n",
       "      <th>4</th>\n",
       "      <td>20.05572</td>\n",
       "      <td>0.05</td>\n",
       "      <td>0.023849</td>\n",
       "      <td>3.36737</td>\n",
       "    </tr>\n",
       "  </tbody>\n",
       "</table>\n",
       "</div>"
      ],
      "text/plain": [
       "       Temp  Time       DSC    Sence\n",
       "0  20.01794  0.01  0.022839  3.36733\n",
       "1  20.01857  0.02  0.022820  3.36733\n",
       "2  20.02401  0.03  0.022770  3.36734\n",
       "3  20.03631  0.04  0.022824  3.36735\n",
       "4  20.05572  0.05  0.023849  3.36737"
      ]
     },
     "execution_count": 3,
     "metadata": {},
     "output_type": "execute_result"
    }
   ],
   "source": [
    "df = pd.read_csv('data\\ExpDat_SK_Clear_resin_entalp5kpm_20-150.txt', sep='\\t',comment='#')\n",
    "df.columns = ['Temp', 'Time', 'DSC', 'Sence']\n",
    "\n",
    "df.head()"
   ]
  },
  {
   "cell_type": "code",
   "execution_count": 13,
   "metadata": {},
   "outputs": [
    {
     "data": {
      "text/plain": [
       "Text(0.5, 1.0, 'Redundant results within a reasonable range')"
      ]
     },
     "execution_count": 13,
     "metadata": {},
     "output_type": "execute_result"
    },
    {
     "data": {
      "image/png": "[encoded data removed]",
      "text/plain": [
       "<Figure size 1152x360 with 2 Axes>"
      ]
     },
     "metadata": {
      "needs_background": "light"
     },
     "output_type": "display_data"
    }
   ],
   "source": [
    "fig, ax = plt.subplots(1, 2, figsize = (16, 5))\n",
    "\n",
    "ax[0].set_xlabel(\"Time(min)\")\n",
    "ax[0].set_ylabel('DSC(mW/mg)')\n",
    "ax[0].plot(df['Time'], df['DSC'], \"o\", markersize=1)\n",
    "ax[0].set_title('Redundant results within a reasonable range')#TODO rename\n",
    "\n",
    "ax[1].set_xlabel(\"Temp(C)\")\n",
    "ax[1].set_ylabel('DSC(mW/mg)')\n",
    "ax[1].plot(df['Temp'], df['DSC'], \"o\", markersize=1)\n",
    "ax[1].set_title('Redundant results within a reasonable range')"
   ]
  },
  {
   "cell_type": "markdown",
   "metadata": {},
   "source": [
    "Давай по искать точки начала и конца пика по температуре - так будет удобнее. На этом графике он будет где-то от 60 до 110"
   ]
  },
  {
   "cell_type": "code",
   "execution_count": 5,
   "metadata": {},
   "outputs": [
    {
     "ename": "NameError",
     "evalue": "name 'raw_data' is not defined",
     "output_type": "error",
     "traceback": [
      "\u001b[1;31m---------------------------------------------------------------------------\u001b[0m",
      "\u001b[1;31mNameError\u001b[0m                                 Traceback (most recent call last)",
      "\u001b[1;32m<ipython-input-5-e9a62aba3419>\u001b[0m in \u001b[0;36m<module>\u001b[1;34m\u001b[0m\n\u001b[1;32m----> 1\u001b[1;33m \u001b[0mpeaks_positive\u001b[0m\u001b[1;33m,\u001b[0m \u001b[0m_\u001b[0m \u001b[1;33m=\u001b[0m \u001b[0mfind_peaks\u001b[0m\u001b[1;33m(\u001b[0m\u001b[0mraw_data\u001b[0m\u001b[1;33m[\u001b[0m\u001b[1;34m'DSC(mW/mg)'\u001b[0m\u001b[1;33m]\u001b[0m\u001b[1;33m,\u001b[0m \u001b[0mheight\u001b[0m\u001b[1;33m=\u001b[0m\u001b[1;36m1.2\u001b[0m\u001b[1;33m)\u001b[0m\u001b[1;33m\u001b[0m\u001b[1;33m\u001b[0m\u001b[0m\n\u001b[0m\u001b[0;32m      2\u001b[0m \u001b[0mpeaks_width\u001b[0m\u001b[1;33m,\u001b[0m \u001b[0mwidth_heights\u001b[0m\u001b[1;33m,\u001b[0m \u001b[0m_\u001b[0m\u001b[1;33m,\u001b[0m \u001b[0m_\u001b[0m \u001b[1;33m=\u001b[0m \u001b[0mpeak_widths\u001b[0m\u001b[1;33m(\u001b[0m\u001b[0mraw_data\u001b[0m\u001b[1;33m[\u001b[0m\u001b[1;34m'DSC(mW/mg)'\u001b[0m\u001b[1;33m]\u001b[0m\u001b[1;33m,\u001b[0m \u001b[0mpeaks_positive\u001b[0m\u001b[1;33m,\u001b[0m \u001b[0mrel_height\u001b[0m \u001b[1;33m=\u001b[0m \u001b[1;36m0.75\u001b[0m\u001b[1;33m)\u001b[0m\u001b[1;33m\u001b[0m\u001b[1;33m\u001b[0m\u001b[0m\n\u001b[0;32m      3\u001b[0m \u001b[1;33m\u001b[0m\u001b[0m\n\u001b[0;32m      4\u001b[0m \u001b[0mpeak_start\u001b[0m \u001b[1;33m=\u001b[0m \u001b[0mraw_data\u001b[0m\u001b[1;33m[\u001b[0m\u001b[1;34m'DSC(mW/mg)'\u001b[0m\u001b[1;33m]\u001b[0m\u001b[1;33m[\u001b[0m\u001b[0mraw_data\u001b[0m\u001b[1;33m[\u001b[0m\u001b[1;34m'DSC(mW/mg)'\u001b[0m\u001b[1;33m]\u001b[0m\u001b[1;33m>\u001b[0m\u001b[1;36m0.27737123\u001b[0m\u001b[1;33m]\u001b[0m\u001b[1;33m.\u001b[0m\u001b[0mfirst_valid_index\u001b[0m\u001b[1;33m(\u001b[0m\u001b[1;33m)\u001b[0m\u001b[1;33m\u001b[0m\u001b[1;33m\u001b[0m\u001b[0m\n\u001b[0;32m      5\u001b[0m \u001b[0mpeak_end\u001b[0m \u001b[1;33m=\u001b[0m \u001b[0mraw_data\u001b[0m\u001b[1;33m[\u001b[0m\u001b[1;34m'DSC(mW/mg)'\u001b[0m\u001b[1;33m]\u001b[0m\u001b[1;33m[\u001b[0m\u001b[0mraw_data\u001b[0m\u001b[1;33m[\u001b[0m\u001b[1;34m'DSC(mW/mg)'\u001b[0m\u001b[1;33m]\u001b[0m\u001b[1;33m>\u001b[0m\u001b[1;36m0.27737123\u001b[0m\u001b[1;33m]\u001b[0m\u001b[1;33m.\u001b[0m\u001b[0mlast_valid_index\u001b[0m\u001b[1;33m(\u001b[0m\u001b[1;33m)\u001b[0m\u001b[1;33m\u001b[0m\u001b[1;33m\u001b[0m\u001b[0m\n",
      "\u001b[1;31mNameError\u001b[0m: name 'raw_data' is not defined"
     ]
    }
   ],
   "source": [
    "peaks_positive, _ = find_peaks(raw_data['DSC(mW/mg)'], height=1.2)\n",
    "peaks_width, width_heights, _, _ = peak_widths(raw_data['DSC(mW/mg)'], peaks_positive, rel_height = 0.75)\n",
    "\n",
    "peak_start = raw_data['DSC(mW/mg)'][raw_data['DSC(mW/mg)']>0.27737123].first_valid_index()\n",
    "peak_end = raw_data['DSC(mW/mg)'][raw_data['DSC(mW/mg)']>0.27737123].last_valid_index()\n",
    "\n",
    "peak = raw_data.iloc[peak_start:peak_end]\n",
    "\n",
    "spent_energy = simps(peak)\n",
    "\n",
    "print(spent_energy)\n"
   ]
  },
  {
   "cell_type": "code",
   "execution_count": null,
   "metadata": {},
   "outputs": [],
   "source": []
  }
 ],
 "metadata": {
  "kernelspec": {
   "display_name": "Python 3",
   "language": "python",
   "name": "python3"
  }
 },
 "nbformat": 4,
 "nbformat_minor": 2
}
