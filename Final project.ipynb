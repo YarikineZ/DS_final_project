{
 "cells": [
  {
   "cell_type": "markdown",
   "metadata": {},
   "source": [
    "Тут про постановку задачи, почему это важно и прочее."
   ]
  },
  {
   "cell_type": "markdown",
   "metadata": {},
   "source": [
    "# Problem statement\n",
    "![image](./figures/Aero_Composite_Applications.png)"
   ]
  },
  {
   "cell_type": "markdown",
   "metadata": {},
   "source": [
    "# Thermoset resin curing\n",
    "![image](./figures/molleculas.png)"
   ]
  },
  {
   "cell_type": "markdown",
   "metadata": {},
   "source": [
    "# Data collecting\n",
    "![image](./figures/DSC_polyma.jpg)\n",
    "![image](./figures/DSC_incide.jpg)"
   ]
  },
  {
   "cell_type": "code",
   "execution_count": 1,
   "metadata": {},
   "outputs": [],
   "source": [
    "import pandas as pd\n",
    "import numpy as np\n",
    "import matplotlib.pyplot as plt\n",
    "from scipy.signal import find_peaks\n",
    "from scipy.signal import peak_widths\n",
    "from scipy.integrate import simps\n",
    "\n",
    "%matplotlib inline"
   ]
  },
  {
   "cell_type": "markdown",
   "metadata": {},
   "source": [
    "Подгружаем данные"
   ]
  },
  {
   "cell_type": "code",
   "execution_count": 2,
   "metadata": {},
   "outputs": [
    {
     "data": {
      "text/html": [
       "<div>\n",
       "<style scoped>\n",
       "    .dataframe tbody tr th:only-of-type {\n",
       "        vertical-align: middle;\n",
       "    }\n",
       "\n",
       "    .dataframe tbody tr th {\n",
       "        vertical-align: top;\n",
       "    }\n",
       "\n",
       "    .dataframe thead th {\n",
       "        text-align: right;\n",
       "    }\n",
       "</style>\n",
       "<table border=\"1\" class=\"dataframe\">\n",
       "  <thead>\n",
       "    <tr style=\"text-align: right;\">\n",
       "      <th></th>\n",
       "      <th>Temp</th>\n",
       "      <th>Time</th>\n",
       "      <th>DSC</th>\n",
       "      <th>Sence</th>\n",
       "    </tr>\n",
       "  </thead>\n",
       "  <tbody>\n",
       "    <tr>\n",
       "      <th>0</th>\n",
       "      <td>20.01794</td>\n",
       "      <td>0.01</td>\n",
       "      <td>0.022839</td>\n",
       "      <td>3.36733</td>\n",
       "    </tr>\n",
       "    <tr>\n",
       "      <th>1</th>\n",
       "      <td>20.01857</td>\n",
       "      <td>0.02</td>\n",
       "      <td>0.022820</td>\n",
       "      <td>3.36733</td>\n",
       "    </tr>\n",
       "    <tr>\n",
       "      <th>2</th>\n",
       "      <td>20.02401</td>\n",
       "      <td>0.03</td>\n",
       "      <td>0.022770</td>\n",
       "      <td>3.36734</td>\n",
       "    </tr>\n",
       "    <tr>\n",
       "      <th>3</th>\n",
       "      <td>20.03631</td>\n",
       "      <td>0.04</td>\n",
       "      <td>0.022824</td>\n",
       "      <td>3.36735</td>\n",
       "    </tr>\n",
       "    <tr>\n",
       "      <th>4</th>\n",
       "      <td>20.05572</td>\n",
       "      <td>0.05</td>\n",
       "      <td>0.023849</td>\n",
       "      <td>3.36737</td>\n",
       "    </tr>\n",
       "  </tbody>\n",
       "</table>\n",
       "</div>"
      ],
      "text/plain": [
       "       Temp  Time       DSC    Sence\n",
       "0  20.01794  0.01  0.022839  3.36733\n",
       "1  20.01857  0.02  0.022820  3.36733\n",
       "2  20.02401  0.03  0.022770  3.36734\n",
       "3  20.03631  0.04  0.022824  3.36735\n",
       "4  20.05572  0.05  0.023849  3.36737"
      ]
     },
     "execution_count": 2,
     "metadata": {},
     "output_type": "execute_result"
    }
   ],
   "source": [
    "df = pd.read_csv('data/ExpDat_SK_Clear_resin_entalp5kpm_20-150.txt', sep='\\t',comment='#')\n",
    "df.columns = ['Temp', 'Time', 'DSC', 'Sence']\n",
    "\n",
    "df.head()"
   ]
  },
  {
   "cell_type": "code",
   "execution_count": 3,
   "metadata": {},
   "outputs": [
    {
     "data": {
      "text/plain": [
       "Text(0.5, 1.0, 'Raw cure kinetics signal by temperature')"
      ]
     },
     "execution_count": 3,
     "metadata": {},
     "output_type": "execute_result"
    },
    {
     "data": {
      "image/png": "[encoded data removed]",
      "text/plain": [
       "<Figure size 1152x360 with 2 Axes>"
      ]
     },
     "metadata": {
      "needs_background": "light"
     },
     "output_type": "display_data"
    }
   ],
   "source": [
    "fig, ax = plt.subplots(1, 2, figsize = (16, 5))\n",
    "\n",
    "ax[0].set_xlabel(\"Time(min)\")\n",
    "ax[0].set_ylabel('DSC(mW/mg)')\n",
    "ax[0].plot(df['Time'], df['DSC'], \"o\", markersize=1)\n",
    "ax[0].set_title('Raw cure kinetics signal by time')\n",
    "\n",
    "ax[1].set_xlabel(\"Temp(C)\")\n",
    "ax[1].set_ylabel('DSC(mW/mg)')\n",
    "ax[1].plot(df['Temp'], df['DSC'], \"o\", markersize=1)\n",
    "ax[1].set_title('Raw cure kinetics signal by temperature')"
   ]
  },
  {
   "cell_type": "markdown",
   "metadata": {},
   "source": [
    "### Тут ищем точки начала и конца реакции\n",
    "\n",
    "Давай по искать точки начала и конца пика по температуре - так будет удобнее. На этом графике он будет где-то от 60 до 110. Вообще отделюную часть кода нужно уделить определению точек начала и конца. Я пытался сделать это автоматически красиво, но получилось так себе. Наверное лучше составить отдельную таблицу и захардкодить."
   ]
  },
  {
   "cell_type": "code",
   "execution_count": 4,
   "metadata": {},
   "outputs": [
    {
     "name": "stdout",
     "output_type": "stream",
     "text": [
      "[0.03235397, 0.02998976]\n"
     ]
    },
    {
     "data": {
      "text/plain": [
       "Text(0.5, 1.0, 'Raw cure kinetics signal by temperature')"
      ]
     },
     "execution_count": 4,
     "metadata": {},
     "output_type": "execute_result"
    },
    {
     "data": {
      "image/png": "[encoded data removed]",
      "text/plain": [
       "<Figure size 1152x360 with 2 Axes>"
      ]
     },
     "metadata": {
      "needs_background": "light"
     },
     "output_type": "display_data"
    }
   ],
   "source": [
    "peaks_positive, _ = find_peaks(df['DSC'], height=1.2)\n",
    "peaks_width, width_heights, _, _ = peak_widths(df['DSC'], peaks_positive, rel_height = 0.92)\n",
    "\n",
    "peak_start = df['DSC'][df['DSC']>width_heights[0]].first_valid_index()\n",
    "peak_end = df['DSC'][df['DSC']>width_heights[0]].last_valid_index()\n",
    "\n",
    "\n",
    "print([df['DSC'][peak_start],df['DSC'][peak_end]])\n",
    "\n",
    "fig, ax = plt.subplots(1, 2, figsize = (16, 5))\n",
    "\n",
    "\n",
    "ax[0].plot(df['Time'], df['DSC'], \"o\", markersize=1, label = \"Signal\")\n",
    "ax[0].plot([df['Time'][peak_start],df['Time'][peak_end]],\n",
    "               [df['DSC'][peak_start],df['DSC'][peak_end]],\n",
    "              \"o\", markersize=10, label = \"Baseline\")\n",
    "ax[0].set_xlabel(\"Time(min)\")\n",
    "ax[0].set_ylabel('DSC(mW/mg)')\n",
    "ax[0].set_title('Raw cure kinetics signal by time')\n",
    "\n",
    "ax[1].plot(df['Temp'], df['DSC'], \"o\", markersize=1, label = \"Signal\")\n",
    "ax[1].plot([df['Temp'][peak_start],df['Temp'][peak_end]],\n",
    "               [df['DSC'][peak_start],df['DSC'][peak_end]],\n",
    "                \"o\", markersize=10, label = \"Baseline\")\n",
    "ax[1].set_xlabel(\"Temp(C)\")\n",
    "ax[1].set_ylabel('DSC(mW/mg)')\n",
    "ax[1].set_title('Raw cure kinetics signal by temperature')\n",
    "\n",
    "#TODO add legend on plots"
   ]
  },
  {
   "cell_type": "markdown",
   "metadata": {},
   "source": [
    "Строим бейслайн по точкам начала и конца, режем пик, приводим к бейслайну"
   ]
  },
  {
   "cell_type": "code",
   "execution_count": 5,
   "metadata": {},
   "outputs": [
    {
     "data": {
      "text/plain": [
       "<matplotlib.legend.Legend at 0x1f50d7c2c18>"
      ]
     },
     "execution_count": 5,
     "metadata": {},
     "output_type": "execute_result"
    },
    {
     "data": {
      "image/png": "[encoded data removed]",
      "text/plain": [
       "<Figure size 432x288 with 1 Axes>"
      ]
     },
     "metadata": {
      "needs_background": "light"
     },
     "output_type": "display_data"
    }
   ],
   "source": [
    "baseline = np.zeros(0)\n",
    "\n",
    "for i in range(peak_end - peak_start):  # строим baseline\n",
    "    new_val = (df['DSC'][peak_end] - df['DSC'][peak_start])/(peak_end - peak_start)*i + df['DSC'][peak_start]\n",
    "    baseline = np.append(baseline,new_val)\n",
    "\n",
    "peak = df['DSC'][peak_start: peak_end] - baseline\n",
    "        \n",
    "plt.plot(df['DSC'][peak_start: peak_end], label = \"Cut DSC data\")\n",
    "plt.plot(range(peak_start, peak_end), baseline, label = \"Baseline\")\n",
    "plt.plot(range(peak_start, peak_end), peak, label = \"Peak\")\n",
    "plt.legend()"
   ]
  },
  {
   "cell_type": "markdown",
   "metadata": {},
   "source": [
    "По приведенному к бейслайну пику строим альфу - степень полимеризации"
   ]
  },
  {
   "cell_type": "code",
   "execution_count": 6,
   "metadata": {},
   "outputs": [
    {
     "data": {
      "text/plain": [
       "[<matplotlib.lines.Line2D at 0x1f50da22358>]"
      ]
     },
     "execution_count": 6,
     "metadata": {},
     "output_type": "execute_result"
    },
    {
     "data": {
      "image/png": "[encoded data removed]",
      "text/plain": [
       "<Figure size 432x288 with 1 Axes>"
      ]
     },
     "metadata": {
      "needs_background": "light"
     },
     "output_type": "display_data"
    }
   ],
   "source": [
    "spent_energy = simps(peak)\n",
    "alpha = []\n",
    "    \n",
    "for i,_ in enumerate(peak):\n",
    "    alpha.append(simps(peak[:i+1])/spent_energy)\n",
    "plt.plot(alpha)"
   ]
  },
  {
   "cell_type": "markdown",
   "metadata": {},
   "source": [
    "Наверное тут стоит начать создавать датафрейм, где будет только только пик + добавить к нему колонку альфы и $\\frac{d\\alpha}{dt}$"
   ]
  },
  {
   "cell_type": "code",
   "execution_count": 7,
   "metadata": {},
   "outputs": [
    {
     "data": {
      "text/html": [
       "<div>\n",
       "<style scoped>\n",
       "    .dataframe tbody tr th:only-of-type {\n",
       "        vertical-align: middle;\n",
       "    }\n",
       "\n",
       "    .dataframe tbody tr th {\n",
       "        vertical-align: top;\n",
       "    }\n",
       "\n",
       "    .dataframe thead th {\n",
       "        text-align: right;\n",
       "    }\n",
       "</style>\n",
       "<table border=\"1\" class=\"dataframe\">\n",
       "  <thead>\n",
       "    <tr style=\"text-align: right;\">\n",
       "      <th></th>\n",
       "      <th>alpha</th>\n",
       "      <th>dtime</th>\n",
       "      <th>dalpha</th>\n",
       "      <th>dalpha_dtime</th>\n",
       "      <th>time</th>\n",
       "      <th>peak</th>\n",
       "      <th>temp</th>\n",
       "      <th>dtemp</th>\n",
       "      <th>dalpha_dtemp</th>\n",
       "    </tr>\n",
       "  </thead>\n",
       "  <tbody>\n",
       "    <tr>\n",
       "      <th>1218</th>\n",
       "      <td>0.000007</td>\n",
       "      <td>0.6</td>\n",
       "      <td>0.000007</td>\n",
       "      <td>0.000011</td>\n",
       "      <td>12.19</td>\n",
       "      <td>0.002945</td>\n",
       "      <td>257.01857</td>\n",
       "      <td>0.00544</td>\n",
       "      <td>0.001226</td>\n",
       "    </tr>\n",
       "    <tr>\n",
       "      <th>1219</th>\n",
       "      <td>0.000027</td>\n",
       "      <td>0.6</td>\n",
       "      <td>0.000020</td>\n",
       "      <td>0.000033</td>\n",
       "      <td>12.20</td>\n",
       "      <td>0.005797</td>\n",
       "      <td>257.02401</td>\n",
       "      <td>0.01230</td>\n",
       "      <td>0.001615</td>\n",
       "    </tr>\n",
       "    <tr>\n",
       "      <th>1220</th>\n",
       "      <td>0.000059</td>\n",
       "      <td>0.6</td>\n",
       "      <td>0.000033</td>\n",
       "      <td>0.000054</td>\n",
       "      <td>12.21</td>\n",
       "      <td>0.008634</td>\n",
       "      <td>257.03631</td>\n",
       "      <td>0.01941</td>\n",
       "      <td>0.001682</td>\n",
       "    </tr>\n",
       "    <tr>\n",
       "      <th>1221</th>\n",
       "      <td>0.000105</td>\n",
       "      <td>0.6</td>\n",
       "      <td>0.000046</td>\n",
       "      <td>0.000076</td>\n",
       "      <td>12.22</td>\n",
       "      <td>0.011537</td>\n",
       "      <td>257.05572</td>\n",
       "      <td>0.02649</td>\n",
       "      <td>0.001723</td>\n",
       "    </tr>\n",
       "    <tr>\n",
       "      <th>1222</th>\n",
       "      <td>0.000164</td>\n",
       "      <td>0.6</td>\n",
       "      <td>0.000059</td>\n",
       "      <td>0.000098</td>\n",
       "      <td>12.23</td>\n",
       "      <td>0.014431</td>\n",
       "      <td>257.08221</td>\n",
       "      <td>0.03327</td>\n",
       "      <td>0.001767</td>\n",
       "    </tr>\n",
       "  </tbody>\n",
       "</table>\n",
       "</div>"
      ],
      "text/plain": [
       "         alpha  dtime    dalpha  dalpha_dtime   time      peak       temp  \\\n",
       "1218  0.000007    0.6  0.000007      0.000011  12.19  0.002945  257.01857   \n",
       "1219  0.000027    0.6  0.000020      0.000033  12.20  0.005797  257.02401   \n",
       "1220  0.000059    0.6  0.000033      0.000054  12.21  0.008634  257.03631   \n",
       "1221  0.000105    0.6  0.000046      0.000076  12.22  0.011537  257.05572   \n",
       "1222  0.000164    0.6  0.000059      0.000098  12.23  0.014431  257.08221   \n",
       "\n",
       "        dtemp  dalpha_dtemp  \n",
       "1218  0.00544      0.001226  \n",
       "1219  0.01230      0.001615  \n",
       "1220  0.01941      0.001682  \n",
       "1221  0.02649      0.001723  \n",
       "1222  0.03327      0.001767  "
      ]
     },
     "execution_count": 7,
     "metadata": {},
     "output_type": "execute_result"
    }
   ],
   "source": [
    "dt = []\n",
    "dalpha = []\n",
    "dalpha_dt = []\n",
    "temp = []\n",
    "dtemp = []\n",
    "dalpha_dtemp = []\n",
    "\n",
    "for i in range(peak_end - peak_start):\n",
    "    dt.append((df['Time'][i+1] - df['Time'][i]) * 60)\n",
    "    temp.append(df['Temp'][i] + 237)\n",
    "    dtemp.append(df['Temp'][i+1] - df['Temp'][i])\n",
    "\n",
    "dalpha.append(0)\n",
    "for i in range(len(alpha)-1):\n",
    "    dalpha.append(alpha[i+1] - alpha[i])\n",
    "\n",
    "for i in range(len(dalpha)):\n",
    "    dalpha_dt.append(dalpha[i]/dt[i])\n",
    "    \n",
    "for i in range(len(dalpha)):\n",
    "    dalpha_dtemp.append(dalpha[i]/dtemp[i])\n",
    "    \n",
    "data = {'alpha' : alpha, \n",
    "        'dtime' : dt, \n",
    "        'dalpha' : dalpha, \n",
    "        'dalpha_dtime' : dalpha_dt, \n",
    "        'time' : df['Time'][peak_start:peak_end], \n",
    "        'peak' : peak,\n",
    "        'temp' : temp,\n",
    "        'dtemp' : dtemp,#разве что как фича для новых регрессий\n",
    "        'dalpha_dtemp' : dalpha_dtemp,\n",
    "       }\n",
    "\n",
    "processed_df = pd.DataFrame(data, columns = ['alpha', 'dtime', 'dalpha', 'dalpha_dtime', 'time', 'peak', 'temp', 'dtemp', 'dalpha_dtemp'])\n",
    "processed_df.drop(processed_df.head(1).index, inplace=True)\n",
    "processed_df.drop(processed_df.tail(1).index, inplace=True)\n",
    "processed_df.head()\n",
    "#processed_df.tail()"
   ]
  },
  {
   "cell_type": "markdown",
   "metadata": {},
   "source": [
    "# Classic ways to silulate resin curing\n",
    "$$\\frac{d\\alpha}{dt} = Ae^{-\\frac{E_a}{RT}}(1-\\alpha)^n \\alpha^m$$\n",
    "$$\\ln(\\frac{d\\alpha}{dt}) = \\ln(A) - \\frac{E_a}{RT} + n \\ln(1-\\alpha) + m \\ln(\\alpha)$$\n",
    "\n",
    "Вот тут было бы здорово добавить как мы при помощи линейной регрессии нашли коэффиценты"
   ]
  },
  {
   "cell_type": "code",
   "execution_count": 27,
   "metadata": {},
   "outputs": [
    {
     "name": "stdout",
     "output_type": "stream",
     "text": [
      "A =  1.1784001705153843e-15\n"
     ]
    }
   ],
   "source": [
    "from sklearn import linear_model\n",
    "\n",
    "R = 8.314\n",
    "\n",
    "a = np.ones(processed_df['alpha'].count()) #собираем матрицу коэффицентов\n",
    "b = np.array(-1 / (R * processed_df['temp']))\n",
    "c = np.array(np.log(1 - processed_df['alpha']))\n",
    "d = np.log(processed_df['alpha'])\n",
    "X = np.vstack([a, b, c, d])\n",
    "#X = np.vstack([a, b, c])\n",
    "X = X.transpose()\n",
    "\n",
    "y = np.log(processed_df['dalpha_dtime'])\n",
    "\n",
    "lm_regr = linear_model.LinearRegression(fit_intercept=False, normalize=True)\n",
    "lm_regr.fit(X, y)\n",
    "\n",
    "lm_regr.coef_\n",
    "print(\"A = \", np.exp(lm_regr.coef_[0]))\n",
    "#TODO other coefficients"
   ]
  },
  {
   "cell_type": "code",
   "execution_count": 30,
   "metadata": {},
   "outputs": [],
   "source": [
    "#print(processed_df[\"pred_dalpha\"])\n",
    "\n",
    "#pred_alpha = calc_alpha(processed_df[\"pred_dalpha\"], processed_df[\"dtime\"])"
   ]
  },
  {
   "cell_type": "code",
   "execution_count": 23,
   "metadata": {
    "scrolled": false
   },
   "outputs": [
    {
     "ename": "KeyError",
     "evalue": "'pred_dalpha'",
     "output_type": "error",
     "traceback": [
      "\u001b[1;31m---------------------------------------------------------------------------\u001b[0m",
      "\u001b[1;31mKeyError\u001b[0m                                  Traceback (most recent call last)",
      "\u001b[1;32mC:\\Programs\\Miniconda3\\lib\\site-packages\\pandas\\core\\indexes\\base.py\u001b[0m in \u001b[0;36mget_loc\u001b[1;34m(self, key, method, tolerance)\u001b[0m\n\u001b[0;32m   2656\u001b[0m             \u001b[1;32mtry\u001b[0m\u001b[1;33m:\u001b[0m\u001b[1;33m\u001b[0m\u001b[1;33m\u001b[0m\u001b[0m\n\u001b[1;32m-> 2657\u001b[1;33m                 \u001b[1;32mreturn\u001b[0m \u001b[0mself\u001b[0m\u001b[1;33m.\u001b[0m\u001b[0m_engine\u001b[0m\u001b[1;33m.\u001b[0m\u001b[0mget_loc\u001b[0m\u001b[1;33m(\u001b[0m\u001b[0mkey\u001b[0m\u001b[1;33m)\u001b[0m\u001b[1;33m\u001b[0m\u001b[1;33m\u001b[0m\u001b[0m\n\u001b[0m\u001b[0;32m   2658\u001b[0m             \u001b[1;32mexcept\u001b[0m \u001b[0mKeyError\u001b[0m\u001b[1;33m:\u001b[0m\u001b[1;33m\u001b[0m\u001b[1;33m\u001b[0m\u001b[0m\n",
      "\u001b[1;32mpandas\\_libs\\index.pyx\u001b[0m in \u001b[0;36mpandas._libs.index.IndexEngine.get_loc\u001b[1;34m()\u001b[0m\n",
      "\u001b[1;32mpandas\\_libs\\index.pyx\u001b[0m in \u001b[0;36mpandas._libs.index.IndexEngine.get_loc\u001b[1;34m()\u001b[0m\n",
      "\u001b[1;32mpandas\\_libs\\hashtable_class_helper.pxi\u001b[0m in \u001b[0;36mpandas._libs.hashtable.PyObjectHashTable.get_item\u001b[1;34m()\u001b[0m\n",
      "\u001b[1;32mpandas\\_libs\\hashtable_class_helper.pxi\u001b[0m in \u001b[0;36mpandas._libs.hashtable.PyObjectHashTable.get_item\u001b[1;34m()\u001b[0m\n",
      "\u001b[1;31mKeyError\u001b[0m: 'pred_dalpha'",
      "\nDuring handling of the above exception, another exception occurred:\n",
      "\u001b[1;31mKeyError\u001b[0m                                  Traceback (most recent call last)",
      "\u001b[1;32m<ipython-input-23-ceee754c3610>\u001b[0m in \u001b[0;36m<module>\u001b[1;34m\u001b[0m\n\u001b[0;32m      7\u001b[0m                       processed_df.iloc[i][-1]*processed_df.iloc[i][1])#d_alpha * dt\n\u001b[0;32m      8\u001b[0m \u001b[1;33m\u001b[0m\u001b[0m\n\u001b[1;32m----> 9\u001b[1;33m \u001b[0mpred_alpha\u001b[0m \u001b[1;33m=\u001b[0m \u001b[0mcalc_alpha\u001b[0m\u001b[1;33m(\u001b[0m\u001b[0mprocessed_df\u001b[0m\u001b[1;33m[\u001b[0m\u001b[1;34m\"pred_dalpha\"\u001b[0m\u001b[1;33m]\u001b[0m\u001b[1;33m,\u001b[0m \u001b[0mprocessed_df\u001b[0m\u001b[1;33m[\u001b[0m\u001b[1;34m\"dtime\"\u001b[0m\u001b[1;33m]\u001b[0m\u001b[1;33m)\u001b[0m\u001b[1;33m\u001b[0m\u001b[1;33m\u001b[0m\u001b[0m\n\u001b[0m\u001b[0;32m     10\u001b[0m \u001b[1;33m\u001b[0m\u001b[0m\n\u001b[0;32m     11\u001b[0m \u001b[0mfig\u001b[0m\u001b[1;33m,\u001b[0m \u001b[0max\u001b[0m \u001b[1;33m=\u001b[0m \u001b[0mplt\u001b[0m\u001b[1;33m.\u001b[0m\u001b[0msubplots\u001b[0m\u001b[1;33m(\u001b[0m\u001b[1;36m1\u001b[0m\u001b[1;33m,\u001b[0m \u001b[1;36m2\u001b[0m\u001b[1;33m,\u001b[0m \u001b[0mfigsize\u001b[0m \u001b[1;33m=\u001b[0m \u001b[1;33m(\u001b[0m\u001b[1;36m16\u001b[0m\u001b[1;33m,\u001b[0m \u001b[1;36m5\u001b[0m\u001b[1;33m)\u001b[0m\u001b[1;33m)\u001b[0m\u001b[1;33m\u001b[0m\u001b[1;33m\u001b[0m\u001b[0m\n",
      "\u001b[1;32mC:\\Programs\\Miniconda3\\lib\\site-packages\\pandas\\core\\frame.py\u001b[0m in \u001b[0;36m__getitem__\u001b[1;34m(self, key)\u001b[0m\n\u001b[0;32m   2925\u001b[0m             \u001b[1;32mif\u001b[0m \u001b[0mself\u001b[0m\u001b[1;33m.\u001b[0m\u001b[0mcolumns\u001b[0m\u001b[1;33m.\u001b[0m\u001b[0mnlevels\u001b[0m \u001b[1;33m>\u001b[0m \u001b[1;36m1\u001b[0m\u001b[1;33m:\u001b[0m\u001b[1;33m\u001b[0m\u001b[1;33m\u001b[0m\u001b[0m\n\u001b[0;32m   2926\u001b[0m                 \u001b[1;32mreturn\u001b[0m \u001b[0mself\u001b[0m\u001b[1;33m.\u001b[0m\u001b[0m_getitem_multilevel\u001b[0m\u001b[1;33m(\u001b[0m\u001b[0mkey\u001b[0m\u001b[1;33m)\u001b[0m\u001b[1;33m\u001b[0m\u001b[1;33m\u001b[0m\u001b[0m\n\u001b[1;32m-> 2927\u001b[1;33m             \u001b[0mindexer\u001b[0m \u001b[1;33m=\u001b[0m \u001b[0mself\u001b[0m\u001b[1;33m.\u001b[0m\u001b[0mcolumns\u001b[0m\u001b[1;33m.\u001b[0m\u001b[0mget_loc\u001b[0m\u001b[1;33m(\u001b[0m\u001b[0mkey\u001b[0m\u001b[1;33m)\u001b[0m\u001b[1;33m\u001b[0m\u001b[1;33m\u001b[0m\u001b[0m\n\u001b[0m\u001b[0;32m   2928\u001b[0m             \u001b[1;32mif\u001b[0m \u001b[0mis_integer\u001b[0m\u001b[1;33m(\u001b[0m\u001b[0mindexer\u001b[0m\u001b[1;33m)\u001b[0m\u001b[1;33m:\u001b[0m\u001b[1;33m\u001b[0m\u001b[1;33m\u001b[0m\u001b[0m\n\u001b[0;32m   2929\u001b[0m                 \u001b[0mindexer\u001b[0m \u001b[1;33m=\u001b[0m \u001b[1;33m[\u001b[0m\u001b[0mindexer\u001b[0m\u001b[1;33m]\u001b[0m\u001b[1;33m\u001b[0m\u001b[1;33m\u001b[0m\u001b[0m\n",
      "\u001b[1;32mC:\\Programs\\Miniconda3\\lib\\site-packages\\pandas\\core\\indexes\\base.py\u001b[0m in \u001b[0;36mget_loc\u001b[1;34m(self, key, method, tolerance)\u001b[0m\n\u001b[0;32m   2657\u001b[0m                 \u001b[1;32mreturn\u001b[0m \u001b[0mself\u001b[0m\u001b[1;33m.\u001b[0m\u001b[0m_engine\u001b[0m\u001b[1;33m.\u001b[0m\u001b[0mget_loc\u001b[0m\u001b[1;33m(\u001b[0m\u001b[0mkey\u001b[0m\u001b[1;33m)\u001b[0m\u001b[1;33m\u001b[0m\u001b[1;33m\u001b[0m\u001b[0m\n\u001b[0;32m   2658\u001b[0m             \u001b[1;32mexcept\u001b[0m \u001b[0mKeyError\u001b[0m\u001b[1;33m:\u001b[0m\u001b[1;33m\u001b[0m\u001b[1;33m\u001b[0m\u001b[0m\n\u001b[1;32m-> 2659\u001b[1;33m                 \u001b[1;32mreturn\u001b[0m \u001b[0mself\u001b[0m\u001b[1;33m.\u001b[0m\u001b[0m_engine\u001b[0m\u001b[1;33m.\u001b[0m\u001b[0mget_loc\u001b[0m\u001b[1;33m(\u001b[0m\u001b[0mself\u001b[0m\u001b[1;33m.\u001b[0m\u001b[0m_maybe_cast_indexer\u001b[0m\u001b[1;33m(\u001b[0m\u001b[0mkey\u001b[0m\u001b[1;33m)\u001b[0m\u001b[1;33m)\u001b[0m\u001b[1;33m\u001b[0m\u001b[1;33m\u001b[0m\u001b[0m\n\u001b[0m\u001b[0;32m   2660\u001b[0m         \u001b[0mindexer\u001b[0m \u001b[1;33m=\u001b[0m \u001b[0mself\u001b[0m\u001b[1;33m.\u001b[0m\u001b[0mget_indexer\u001b[0m\u001b[1;33m(\u001b[0m\u001b[1;33m[\u001b[0m\u001b[0mkey\u001b[0m\u001b[1;33m]\u001b[0m\u001b[1;33m,\u001b[0m \u001b[0mmethod\u001b[0m\u001b[1;33m=\u001b[0m\u001b[0mmethod\u001b[0m\u001b[1;33m,\u001b[0m \u001b[0mtolerance\u001b[0m\u001b[1;33m=\u001b[0m\u001b[0mtolerance\u001b[0m\u001b[1;33m)\u001b[0m\u001b[1;33m\u001b[0m\u001b[1;33m\u001b[0m\u001b[0m\n\u001b[0;32m   2661\u001b[0m         \u001b[1;32mif\u001b[0m \u001b[0mindexer\u001b[0m\u001b[1;33m.\u001b[0m\u001b[0mndim\u001b[0m \u001b[1;33m>\u001b[0m \u001b[1;36m1\u001b[0m \u001b[1;32mor\u001b[0m \u001b[0mindexer\u001b[0m\u001b[1;33m.\u001b[0m\u001b[0msize\u001b[0m \u001b[1;33m>\u001b[0m \u001b[1;36m1\u001b[0m\u001b[1;33m:\u001b[0m\u001b[1;33m\u001b[0m\u001b[1;33m\u001b[0m\u001b[0m\n",
      "\u001b[1;32mpandas\\_libs\\index.pyx\u001b[0m in \u001b[0;36mpandas._libs.index.IndexEngine.get_loc\u001b[1;34m()\u001b[0m\n",
      "\u001b[1;32mpandas\\_libs\\index.pyx\u001b[0m in \u001b[0;36mpandas._libs.index.IndexEngine.get_loc\u001b[1;34m()\u001b[0m\n",
      "\u001b[1;32mpandas\\_libs\\hashtable_class_helper.pxi\u001b[0m in \u001b[0;36mpandas._libs.hashtable.PyObjectHashTable.get_item\u001b[1;34m()\u001b[0m\n",
      "\u001b[1;32mpandas\\_libs\\hashtable_class_helper.pxi\u001b[0m in \u001b[0;36mpandas._libs.hashtable.PyObjectHashTable.get_item\u001b[1;34m()\u001b[0m\n",
      "\u001b[1;31mKeyError\u001b[0m: 'pred_dalpha'"
     ]
    }
   ],
   "source": [
    "processed_df[\"pred_dalpha_dtime\"] =  np.exp(lm_regr.predict(X))\n",
    "\n",
    "pred_alpha = []\n",
    "pred_alpha.append(0)\n",
    "for i in range(len(processed_df)):\n",
    "    pred_alpha.append(pred_alpha[-1] + \n",
    "                      processed_df.iloc[i][-1]*processed_df.iloc[i][1])#d_alpha * dt\n",
    "    \n",
    "fig, ax = plt.subplots(1, 2, figsize = (16, 5))\n",
    "\n",
    "ax[0].plot(processed_df[\"pred_dalpha_dtime\"], label = \"Simulated da/dt\")#TODO add ox numbers\n",
    "ax[0].plot(processed_df[\"dalpha_dtime\"], label = \"Experimental da/dt\")\n",
    "\n",
    "ax[0].set_xlabel(\"Time(min)\")\n",
    "ax[0].set_ylabel('DSC(mW/mg)')\n",
    "ax[0].set_title('Real and constrained $da/dt$')\n",
    "\n",
    "\n",
    "ax[1].plot(pred_alpha, label = \"Simulated alpha\")#TODO add ox numbers\n",
    "ax[1].plot(alpha, label = \"Experimental alpha\")\n",
    "\n",
    "ax[1].set_xlabel(\"Temp(C)\")\n",
    "ax[1].set_ylabel('DSC(mW/mg)')\n",
    "ax[1].set_title('Real and constrained cure degree')\n",
    "\n",
    "#TODO add legend on plots"
   ]
  },
  {
   "cell_type": "markdown",
   "metadata": {},
   "source": [
    "Тут написать подробно про метрики, и выбрать ошибку (MSE r2)"
   ]
  },
  {
   "cell_type": "code",
   "execution_count": null,
   "metadata": {},
   "outputs": [],
   "source": []
  },
  {
   "cell_type": "markdown",
   "metadata": {},
   "source": [
    "Дальше начинаем трогать другие модели?\n",
    "\n",
    "Разделим данные на фичи и таргет"
   ]
  },
  {
   "cell_type": "code",
   "execution_count": 11,
   "metadata": {
    "scrolled": false
   },
   "outputs": [
    {
     "data": {
      "text/html": [
       "<div>\n",
       "<style scoped>\n",
       "    .dataframe tbody tr th:only-of-type {\n",
       "        vertical-align: middle;\n",
       "    }\n",
       "\n",
       "    .dataframe tbody tr th {\n",
       "        vertical-align: top;\n",
       "    }\n",
       "\n",
       "    .dataframe thead th {\n",
       "        text-align: right;\n",
       "    }\n",
       "</style>\n",
       "<table border=\"1\" class=\"dataframe\">\n",
       "  <thead>\n",
       "    <tr style=\"text-align: right;\">\n",
       "      <th></th>\n",
       "      <th>alpha</th>\n",
       "      <th>dtime</th>\n",
       "      <th>dalpha</th>\n",
       "      <th>dalpha_dtime</th>\n",
       "      <th>time</th>\n",
       "      <th>peak</th>\n",
       "      <th>temp</th>\n",
       "      <th>dtemp</th>\n",
       "      <th>dalpha_dtemp</th>\n",
       "      <th>pred_dalpha_dtime</th>\n",
       "    </tr>\n",
       "  </thead>\n",
       "  <tbody>\n",
       "    <tr>\n",
       "      <th>1218</th>\n",
       "      <td>0.000007</td>\n",
       "      <td>0.6</td>\n",
       "      <td>0.000007</td>\n",
       "      <td>0.000011</td>\n",
       "      <td>12.19</td>\n",
       "      <td>0.002945</td>\n",
       "      <td>257.01857</td>\n",
       "      <td>0.00544</td>\n",
       "      <td>0.001226</td>\n",
       "      <td>0.000005</td>\n",
       "    </tr>\n",
       "    <tr>\n",
       "      <th>1219</th>\n",
       "      <td>0.000027</td>\n",
       "      <td>0.6</td>\n",
       "      <td>0.000020</td>\n",
       "      <td>0.000033</td>\n",
       "      <td>12.20</td>\n",
       "      <td>0.005797</td>\n",
       "      <td>257.02401</td>\n",
       "      <td>0.01230</td>\n",
       "      <td>0.001615</td>\n",
       "      <td>0.000015</td>\n",
       "    </tr>\n",
       "    <tr>\n",
       "      <th>1220</th>\n",
       "      <td>0.000059</td>\n",
       "      <td>0.6</td>\n",
       "      <td>0.000033</td>\n",
       "      <td>0.000054</td>\n",
       "      <td>12.21</td>\n",
       "      <td>0.008634</td>\n",
       "      <td>257.03631</td>\n",
       "      <td>0.01941</td>\n",
       "      <td>0.001682</td>\n",
       "      <td>0.000029</td>\n",
       "    </tr>\n",
       "    <tr>\n",
       "      <th>1221</th>\n",
       "      <td>0.000105</td>\n",
       "      <td>0.6</td>\n",
       "      <td>0.000046</td>\n",
       "      <td>0.000076</td>\n",
       "      <td>12.22</td>\n",
       "      <td>0.011537</td>\n",
       "      <td>257.05572</td>\n",
       "      <td>0.02649</td>\n",
       "      <td>0.001723</td>\n",
       "      <td>0.000045</td>\n",
       "    </tr>\n",
       "    <tr>\n",
       "      <th>1222</th>\n",
       "      <td>0.000164</td>\n",
       "      <td>0.6</td>\n",
       "      <td>0.000059</td>\n",
       "      <td>0.000098</td>\n",
       "      <td>12.23</td>\n",
       "      <td>0.014431</td>\n",
       "      <td>257.08221</td>\n",
       "      <td>0.03327</td>\n",
       "      <td>0.001767</td>\n",
       "      <td>0.000064</td>\n",
       "    </tr>\n",
       "  </tbody>\n",
       "</table>\n",
       "</div>"
      ],
      "text/plain": [
       "         alpha  dtime    dalpha  dalpha_dtime   time      peak       temp  \\\n",
       "1218  0.000007    0.6  0.000007      0.000011  12.19  0.002945  257.01857   \n",
       "1219  0.000027    0.6  0.000020      0.000033  12.20  0.005797  257.02401   \n",
       "1220  0.000059    0.6  0.000033      0.000054  12.21  0.008634  257.03631   \n",
       "1221  0.000105    0.6  0.000046      0.000076  12.22  0.011537  257.05572   \n",
       "1222  0.000164    0.6  0.000059      0.000098  12.23  0.014431  257.08221   \n",
       "\n",
       "        dtemp  dalpha_dtemp  pred_dalpha_dtime  \n",
       "1218  0.00544      0.001226           0.000005  \n",
       "1219  0.01230      0.001615           0.000015  \n",
       "1220  0.01941      0.001682           0.000029  \n",
       "1221  0.02649      0.001723           0.000045  \n",
       "1222  0.03327      0.001767           0.000064  "
      ]
     },
     "execution_count": 11,
     "metadata": {},
     "output_type": "execute_result"
    }
   ],
   "source": [
    "processed_df.head()"
   ]
  },
  {
   "cell_type": "code",
   "execution_count": 12,
   "metadata": {},
   "outputs": [],
   "source": [
    "#X = processed_df.drop(columns=\"dalpha_dtime\")#\n",
    "X = processed_df[[\"alpha\", \"temp\"]]\n",
    "y = processed_df[\"dalpha_dtime\"]"
   ]
  },
  {
   "cell_type": "code",
   "execution_count": 13,
   "metadata": {},
   "outputs": [
    {
     "data": {
      "text/plain": [
       "Text(0.5, 1.0, '$da/dt$ distribution')"
      ]
     },
     "execution_count": 13,
     "metadata": {},
     "output_type": "execute_result"
    },
    {
     "data": {
      "image/png": "[encoded data removed]",
      "text/plain": [
       "<Figure size 1152x360 with 2 Axes>"
      ]
     },
     "metadata": {
      "needs_background": "light"
     },
     "output_type": "display_data"
    }
   ],
   "source": [
    "fig, ax = plt.subplots(1, 2, figsize = (16, 5))\n",
    "\n",
    "ax[0].plot(y, \".\", markersize = 1, label = \"Experimental da/dt\")\n",
    "\n",
    "ax[0].set_xlabel(\"Time(min)\")\n",
    "ax[0].set_ylabel('DSC(mW/mg)')\n",
    "ax[0].set_title('Real and constrained $da/dt$')\n",
    "\n",
    "ax[1].hist(y, bins = 50)\n",
    "ax[1].set_xlabel(\"da/dt\")\n",
    "ax[1].set_ylabel('Count')\n",
    "ax[1].set_title('$da/dt$ distribution')"
   ]
  },
  {
   "cell_type": "markdown",
   "metadata": {},
   "source": [
    "Данные распределены не нормально. Что это нам дает? Модем ли мы уже здесь сказать, что линейная регрессия прям не зайдет?"
   ]
  },
  {
   "cell_type": "code",
   "execution_count": 14,
   "metadata": {},
   "outputs": [],
   "source": [
    "from sklearn.model_selection import train_test_split\n",
    "(X_train, X_test, y_train, y_test) = train_test_split(X, y, test_size=0.2)"
   ]
  },
  {
   "cell_type": "code",
   "execution_count": 15,
   "metadata": {},
   "outputs": [
    {
     "name": "stdout",
     "output_type": "stream",
     "text": [
      "1.0155546970231334e-05 1.1056377694364237e-05\n",
      "0.08316207636129347 0.04893170784743006\n"
     ]
    }
   ],
   "source": [
    "from sklearn.linear_model import LinearRegression\n",
    "from sklearn.metrics import mean_squared_error\n",
    "from sklearn.metrics import r2_score\n",
    "\n",
    "lr = linear_model.LinearRegression(fit_intercept=False, normalize=True)\n",
    "lr.fit(X_train, y_train)\n",
    "\n",
    "testPred = lr.predict(X_test)\n",
    "trainPred = lr.predict(X_train)\n",
    "\n",
    "testPred = lr.predict(X_test)\n",
    "trainPred = lr.predict(X_train)\n",
    "\n",
    "mse_lr_train =  mean_squared_error(y_train, trainPred)\n",
    "mse_lr_test =  mean_squared_error(y_test, testPred)\n",
    "\n",
    "r2_score_train = r2_score(y_train, trainPred)\n",
    "r2_score_test =  r2_score(y_test, testPred)\n",
    "\n",
    "print(mse_lr_test, mse_lr_train)\n",
    "print(r2_score_test, r2_score_train)"
   ]
  },
  {
   "cell_type": "markdown",
   "metadata": {},
   "source": [
    "Результаты очень плохие. Пробуем решить полиномом."
   ]
  },
  {
   "cell_type": "code",
   "execution_count": 16,
   "metadata": {},
   "outputs": [
    {
     "name": "stdout",
     "output_type": "stream",
     "text": [
      "6.729780435304599e-11 3.555053135330914e-11\n",
      "0.9999939243864078 0.999996941947528\n"
     ]
    }
   ],
   "source": [
    "from sklearn.pipeline import make_pipeline\n",
    "from sklearn.preprocessing import PolynomialFeatures\n",
    "\n",
    "poly = make_pipeline(PolynomialFeatures(degree=3),\n",
    "                    LinearRegression(fit_intercept=False))\n",
    "poly.fit(X, y)\n",
    "\n",
    "testPred = poly.predict(X_test)\n",
    "trainPred = poly.predict(X_train)\n",
    "\n",
    "testPred = poly.predict(X_test)\n",
    "trainPred = poly.predict(X_train)\n",
    "\n",
    "mse_lr_train =  mean_squared_error(y_train, trainPred)\n",
    "mse_lr_test =  mean_squared_error(y_test, testPred)\n",
    "\n",
    "r2_score_train = r2_score(y_train, trainPred)\n",
    "r2_score_test =  r2_score(y_test, testPred)\n",
    "\n",
    "print(mse_lr_test, mse_lr_train)# ошибку лучше сичтать по альфе, а не d_aplha (Y)\n",
    "print(r2_score_test, r2_score_train)"
   ]
  },
  {
   "cell_type": "markdown",
   "metadata": {},
   "source": [
    "Результат гораздо лучше"
   ]
  },
  {
   "cell_type": "code",
   "execution_count": 17,
   "metadata": {},
   "outputs": [
    {
     "data": {
      "text/plain": [
       "Text(0.5, 1.0, 'Real and constrained cure degree')"
      ]
     },
     "execution_count": 17,
     "metadata": {},
     "output_type": "execute_result"
    },
    {
     "data": {
      "image/png": "[encoded data removed]",
      "text/plain": [
       "<Figure size 1152x360 with 2 Axes>"
      ]
     },
     "metadata": {
      "needs_background": "light"
     },
     "output_type": "display_data"
    }
   ],
   "source": [
    "fig, ax = plt.subplots(1, 2, figsize = (16, 5))\n",
    "\n",
    "ax[0].plot(testPred, label = \"Simulated da/dt\")#TODO add ox numbers\n",
    "ax[0].plot(trainPred, label = \"Simulated da/dt\")\n",
    "ax[0].plot(y, label = \"Experimental da/dt\")\n",
    "\n",
    "ax[0].set_xlabel(\"Time(min)\")\n",
    "ax[0].set_ylabel('DSC(mW/mg)')\n",
    "ax[0].set_title('Real and constrained $da/dt$')\n",
    "\n",
    "\n",
    "ax[1].plot(pred_alpha, label = \"Simulated alpha\")#TODO add ox numbers\n",
    "ax[1].plot(alpha, label = \"Experimental alpha\")\n",
    "\n",
    "ax[1].set_xlabel(\"Temp(C)\")\n",
    "ax[1].set_ylabel('DSC(mW/mg)')\n",
    "ax[1].set_title('Real and constrained cure degree')"
   ]
  },
  {
   "cell_type": "code",
   "execution_count": 31,
   "metadata": {},
   "outputs": [],
   "source": [
    "def calc_alpha(daplpa, dt):\n",
    "    alpha = []\n",
    "    alpha.append(0)\n",
    "    for i in range(len(daplpa)):\n",
    "        alpha.append(alpha[-1] + daplpa[i]*dt[i])\n",
    "    return alpha"
   ]
  }
 ],
 "metadata": {
  "kernelspec": {
   "display_name": "Python 3",
   "language": "python",
   "name": "python3"
  },
  "language_info": {
   "codemirror_mode": {
    "name": "ipython",
    "version": 3
   },
   "file_extension": ".py",
   "mimetype": "text/x-python",
   "name": "python",
   "nbconvert_exporter": "python",
   "pygments_lexer": "ipython3",
   "version": "3.7.3"
  }
 },
 "nbformat": 4,
 "nbformat_minor": 2
}
